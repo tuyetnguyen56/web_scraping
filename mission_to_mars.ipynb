{
 "cells": [
  {
   "cell_type": "markdown",
   "metadata": {},
   "source": [
    "# Mission to Mars Notebook "
   ]
  },
  {
   "cell_type": "code",
   "execution_count": 1,
   "metadata": {},
   "outputs": [],
   "source": [
    "# Import Dependencies\n",
    "from splinter import Browser\n",
    "from bs4 import BeautifulSoup \n",
    "import re\n",
    "import time\n",
    "import pandas as pd"
   ]
  },
  {
   "cell_type": "code",
   "execution_count": 6,
   "metadata": {},
   "outputs": [],
   "source": [
    "# Initialize executable path for the chromedriver\n",
    "executable_path = {'executable_path': 'chromedriver.exe'}\n",
    "browser = Browser('chrome', **executable_path, headless=True)"
   ]
  },
  {
   "cell_type": "markdown",
   "metadata": {},
   "source": [
    "## STEP1: Scraping"
   ]
  },
  {
   "cell_type": "markdown",
   "metadata": {},
   "source": [
    "### Initiate Scrape for NASA Mars News Site "
   ]
  },
  {
   "cell_type": "code",
   "execution_count": 8,
   "metadata": {},
   "outputs": [],
   "source": [
    "# Scrape \"NASA Mars News\" website for news info, link given(click on it)\n",
    "mars_nasa_url = \"https://mars.nasa.gov/news/\"\n",
    "\n",
    "# Retrieve page with Splinter\n",
    "browser.visit(mars_nasa_url)\n",
    "time.sleep(2)\n",
    "\n",
    "# Create BeautifulSoup object and parse with 'html.parser'\n",
    "html = browser.html\n",
    "soup = BeautifulSoup(html, 'html.parser')"
   ]
  },
  {
   "cell_type": "markdown",
   "metadata": {},
   "source": [
    "#### Find latest news titles and paragraphs"
   ]
  },
  {
   "cell_type": "code",
   "execution_count": 187,
   "metadata": {},
   "outputs": [],
   "source": [
    "# Assign the title and paragraphs so you can reference later.\n",
    "news_title_list = []\n",
    "news_p_list = []\n",
    "\n",
    "# Extract all articles and put into lists\n",
    "results = soup.find_all('li', class_='slide')\n",
    "for result in results:\n",
    "        # Error handling\n",
    "    try:\n",
    "        # Retrieve news title\n",
    "        nasa_news_title = result.find('div', class_=\"content_title\").a.text\n",
    "        # Retrieve news paragraph text\n",
    "        nasa_news_p = result.find('div', class_=\"article_teaser_body\").text\n",
    "\n",
    "        # Print results only if title and paragraph text are available\n",
    "        if (nasa_news_title and nasa_news_p):\n",
    "            news_title_list.append(nasa_news_title)\n",
    "            news_p_list.append(nasa_news_p)\n",
    "    except AttributeError as e:\n",
    "        print(e)"
   ]
  },
  {
   "cell_type": "code",
   "execution_count": 20,
   "metadata": {},
   "outputs": [
    {
     "name": "stdout",
     "output_type": "stream",
     "text": [
      "Title: NASA's InSight Detects First Likely 'Quake' on Mars\n",
      "-----------------------------------------------------------------------------------------------------------------\n",
      "Latest News Details: While their causes are still unknown, one of three shaking events looks a lot like the quakes detected on the Moon by the Apollo missions.\n"
     ]
    }
   ],
   "source": [
    "# Latest news title\n",
    "news_title = news_title_list[0]\n",
    "\n",
    "# Latest news paragraph text\n",
    "news_p = news_p_list[0]\n",
    "\n",
    "print(\"Title:\",news_title)\n",
    "print('-----------------------------------------------------------------------------------------------------------------')\n",
    "print(\"Latest News Details:\",news_p)"
   ]
  },
  {
   "cell_type": "markdown",
   "metadata": {},
   "source": [
    "## JPL Mars Space Images\n",
    "(https://www.jpl.nasa.gov/spaceimages/?search=&category=Mars)"
   ]
  },
  {
   "cell_type": "code",
   "execution_count": 149,
   "metadata": {},
   "outputs": [],
   "source": [
    "# Define URL\n",
    "jpl_domain = 'https://www.jpl.nasa.gov'\n",
    "jpl_path = '/spaceimages/?search=&category=Mars'\n",
    "jpl_url = jpl_domain + jpl_path\n",
    "\n",
    "# Use Splinter to open up web browser to main page\n",
    "browser.visit(jpl_url)\n",
    "time.sleep(2)"
   ]
  },
  {
   "cell_type": "code",
   "execution_count": 150,
   "metadata": {},
   "outputs": [],
   "source": [
    "# Open the main image\n",
    "browser.click_link_by_partial_text('FULL IMAGE')\n",
    "time.sleep(1)\n",
    "\n",
    "# Open 'more info' page\n",
    "browser.click_link_by_partial_text('more info')\n",
    "time.sleep(1)\n",
    "html = browser.html\n",
    "soup = BeautifulSoup(html, 'html.parser')"
   ]
  },
  {
   "cell_type": "code",
   "execution_count": 151,
   "metadata": {},
   "outputs": [
    {
     "name": "stdout",
     "output_type": "stream",
     "text": [
      "https://www.jpl.nasa.gov/spaceimages/images/largesize/PIA10181_hires.jpg\n"
     ]
    }
   ],
   "source": [
    "# Obtain URL for featured image(make sure its 'largesize' in URL)\n",
    "main_img = soup.find('img', class_=\"main_image\")['src']\n",
    "featured_image_url = jpl_domain + main_img\n",
    "print(featured_image_url)\n"
   ]
  },
  {
   "cell_type": "markdown",
   "metadata": {},
   "source": [
    "## Mars Weather\n",
    "(https://twitter.com/marswxreport?lang=en)"
   ]
  },
  {
   "cell_type": "code",
   "execution_count": 169,
   "metadata": {},
   "outputs": [],
   "source": [
    "# Scrape \"Twitter\" website for Mars weather info, link given(click on it)\n",
    "mars_weather_url = 'https://twitter.com/marswxreport?lang=en'\n",
    "\n",
    "# Retrieve page with Splinter\n",
    "browser.visit(mars_weather_url)\n",
    "time.sleep(2)\n",
    "\n",
    "# Create BeautifulSoup object and parse with 'html.parser'\n",
    "html = browser.html\n",
    "soup = BeautifulSoup(html, 'html.parser')"
   ]
  },
  {
   "cell_type": "markdown",
   "metadata": {},
   "source": [
    "#### Find latest weather news"
   ]
  },
  {
   "cell_type": "code",
   "execution_count": 173,
   "metadata": {},
   "outputs": [
    {
     "name": "stdout",
     "output_type": "stream",
     "text": [
      "Latest Mars Weather: InSight sol 143 (2019-04-22) low -98.0ºC (-144.3ºF) high -19.8ºC (-3.7ºF)\n",
      "winds from the SW at 4.5 m/s (10.1 mph) gusting to 12.1 m/s (27.2 mph)\n",
      "pressure at 7.40 hPapic.twitter.com/EOazNkJqjD\n"
     ]
    }
   ],
   "source": [
    "# Retrieve the latest weather news \n",
    "weather_news_list = []\n",
    "for weather_news in soup.find_all('p',class_=\"TweetTextSize TweetTextSize--normal js-tweet-text tweet-text\"):\n",
    "    weather_news_list.append(weather_news.text)\n",
    "    \n",
    "# Assign the list/dict\n",
    "Latest_Mars_Weather = weather_news_list[0]\n",
    "mars_weather_dict = {\"mar_weather\": Latest_Mars_Weather }\n",
    "\n",
    "# print mars info\n",
    "print('Latest Mars Weather:',Latest_Mars_Weather)    "
   ]
  },
  {
   "cell_type": "markdown",
   "metadata": {},
   "source": [
    "## Mars Facts\n",
    "(https://space-facts.com/mars/)"
   ]
  },
  {
   "cell_type": "markdown",
   "metadata": {},
   "source": [
    "#### Using Pandas to scrape the table containing facts about the planet including Diameter, Mass, etc."
   ]
  },
  {
   "cell_type": "code",
   "execution_count": 181,
   "metadata": {},
   "outputs": [],
   "source": [
    "# Import pandas library\n",
    "import pandas as pd\n",
    "\n",
    "# Generate DataFrame using Pandas to pull html table and put into a list\n",
    "mars_facts_url = 'https://space-facts.com/mars/'\n",
    "mars_facts_list = pd.read_html(mars_facts_url)"
   ]
  },
  {
   "cell_type": "code",
   "execution_count": 182,
   "metadata": {},
   "outputs": [
    {
     "data": {
      "text/html": [
       "<div>\n",
       "<style scoped>\n",
       "    .dataframe tbody tr th:only-of-type {\n",
       "        vertical-align: middle;\n",
       "    }\n",
       "\n",
       "    .dataframe tbody tr th {\n",
       "        vertical-align: top;\n",
       "    }\n",
       "\n",
       "    .dataframe thead th {\n",
       "        text-align: right;\n",
       "    }\n",
       "</style>\n",
       "<table border=\"1\" class=\"dataframe\">\n",
       "  <thead>\n",
       "    <tr style=\"text-align: right;\">\n",
       "      <th></th>\n",
       "      <th>Value</th>\n",
       "    </tr>\n",
       "    <tr>\n",
       "      <th>Description</th>\n",
       "      <th></th>\n",
       "    </tr>\n",
       "  </thead>\n",
       "  <tbody>\n",
       "    <tr>\n",
       "      <th>Equatorial Diameter:</th>\n",
       "      <td>6,792 km</td>\n",
       "    </tr>\n",
       "    <tr>\n",
       "      <th>Polar Diameter:</th>\n",
       "      <td>6,752 km</td>\n",
       "    </tr>\n",
       "    <tr>\n",
       "      <th>Mass:</th>\n",
       "      <td>6.42 x 10^23 kg (10.7% Earth)</td>\n",
       "    </tr>\n",
       "    <tr>\n",
       "      <th>Moons:</th>\n",
       "      <td>2 (Phobos &amp; Deimos)</td>\n",
       "    </tr>\n",
       "    <tr>\n",
       "      <th>Orbit Distance:</th>\n",
       "      <td>227,943,824 km (1.52 AU)</td>\n",
       "    </tr>\n",
       "    <tr>\n",
       "      <th>Orbit Period:</th>\n",
       "      <td>687 days (1.9 years)</td>\n",
       "    </tr>\n",
       "    <tr>\n",
       "      <th>Surface Temperature:</th>\n",
       "      <td>-153 to 20 °C</td>\n",
       "    </tr>\n",
       "    <tr>\n",
       "      <th>First Record:</th>\n",
       "      <td>2nd millennium BC</td>\n",
       "    </tr>\n",
       "    <tr>\n",
       "      <th>Recorded By:</th>\n",
       "      <td>Egyptian astronomers</td>\n",
       "    </tr>\n",
       "  </tbody>\n",
       "</table>\n",
       "</div>"
      ],
      "text/plain": [
       "                                              Value\n",
       "Description                                        \n",
       "Equatorial Diameter:                       6,792 km\n",
       "Polar Diameter:                            6,752 km\n",
       "Mass:                 6.42 x 10^23 kg (10.7% Earth)\n",
       "Moons:                          2 (Phobos & Deimos)\n",
       "Orbit Distance:            227,943,824 km (1.52 AU)\n",
       "Orbit Period:                  687 days (1.9 years)\n",
       "Surface Temperature:                  -153 to 20 °C\n",
       "First Record:                     2nd millennium BC\n",
       "Recorded By:                   Egyptian astronomers"
      ]
     },
     "execution_count": 182,
     "metadata": {},
     "output_type": "execute_result"
    }
   ],
   "source": [
    "# Put list into a dataframe and format\n",
    "mars_facts_df = mars_facts_list[0]\n",
    "mars_facts_df.columns = ['Description', 'Value']\n",
    "mars_facts_df.set_index('Description', inplace=True)\n",
    "mars_facts_df"
   ]
  },
  {
   "cell_type": "code",
   "execution_count": 211,
   "metadata": {},
   "outputs": [
    {
     "data": {
      "text/plain": [
       "'<table border=\"1\" class=\"dataframe\">\\n  <thead>\\n    <tr style=\"text-align: right;\">\\n      <th></th>\\n      <th>Value</th>\\n    </tr>\\n    <tr>\\n      <th>Description</th>\\n      <th></th>\\n    </tr>\\n  </thead>\\n  <tbody>\\n    <tr>\\n      <th>Equatorial Diameter:</th>\\n      <td>6,792 km</td>\\n    </tr>\\n    <tr>\\n      <th>Polar Diameter:</th>\\n      <td>6,752 km</td>\\n    </tr>\\n    <tr>\\n      <th>Mass:</th>\\n      <td>6.42 x 10^23 kg (10.7% Earth)</td>\\n    </tr>\\n    <tr>\\n      <th>Moons:</th>\\n      <td>2 (Phobos &amp; Deimos)</td>\\n    </tr>\\n    <tr>\\n      <th>Orbit Distance:</th>\\n      <td>227,943,824 km (1.52 AU)</td>\\n    </tr>\\n    <tr>\\n      <th>Orbit Period:</th>\\n      <td>687 days (1.9 years)</td>\\n    </tr>\\n    <tr>\\n      <th>Surface Temperature:</th>\\n      <td>-153 to 20 °C</td>\\n    </tr>\\n    <tr>\\n      <th>First Record:</th>\\n      <td>2nd millennium BC</td>\\n    </tr>\\n    <tr>\\n      <th>Recorded By:</th>\\n      <td>Egyptian astronomers</td>\\n    </tr>\\n  </tbody>\\n</table>'"
      ]
     },
     "execution_count": 211,
     "metadata": {},
     "output_type": "execute_result"
    }
   ],
   "source": [
    "# Convert dataframe into an html \n",
    "marsfacts_table = mars_facts_df.to_html()\n",
    "marsfacts_table"
   ]
  },
  {
   "cell_type": "markdown",
   "metadata": {},
   "source": [
    "## Mars Hemispheres \n",
    "(https://astrogeology.usgs.gov/search/results?q=hemisphere+enhanced&k1=target&v1=Mars)"
   ]
  },
  {
   "cell_type": "code",
   "execution_count": 212,
   "metadata": {},
   "outputs": [],
   "source": [
    "# Define URL\n",
    "usgs_domain = 'https://astrogeology.usgs.gov'\n",
    "usgs_path = '/search/results?q=hemisphere+enhanced&k1=target&v1=Mars'\n",
    "usgs_url = usgs_domain + usgs_path\n",
    "\n",
    "# Use Splinter to open up web browser to main page\n",
    "browser.visit(usgs_url)\n",
    "time.sleep(2)\n",
    "\n",
    "# Create BeautifulSoup object and parse with 'html.parser'\n",
    "html = browser.html\n",
    "soup = BeautifulSoup(html, 'html.parser')"
   ]
  },
  {
   "cell_type": "code",
   "execution_count": 213,
   "metadata": {},
   "outputs": [],
   "source": [
    "# Assign images to list so you can reference later.\n",
    "hemisphere_image_urls = []\n",
    "\n",
    "# Find the images\n",
    "results = soup.find('div', class_='collapsible results').\\\n",
    "           find_all('div', class_='item')\n",
    "\n",
    "for result in results:\n",
    "    \n",
    "    # Go to image page\n",
    "    go_to = result.find('div', class_='description').a.h3.text\n",
    "    browser.click_link_by_partial_text(go_to)\n",
    "    time.sleep(2)\n",
    "    \n",
    "    # Retrieve the image url\n",
    "    html = browser.html\n",
    "    soup = BeautifulSoup(html, 'html.parser')\n",
    "    path_to_img = soup.find('img', class_='wide-image')['src']\n",
    "    \n",
    "    # Create and Append the dictionary with the image url string and the hemisphere title to a lists\n",
    "    all_images = {}\n",
    "    all_images[\"title\"] = re.compile('Enhanced').sub('', go_to).rstrip()\n",
    "    all_images[\"img_url\"] = usgs_domain + path_to_img\n",
    "    hemisphere_image_urls.append(all_images)\n",
    "    \n",
    "    # Go back to main page\n",
    "    browser.back()\n",
    "    time.sleep(2)\n",
    "    "
   ]
  },
  {
   "cell_type": "code",
   "execution_count": 214,
   "metadata": {},
   "outputs": [
    {
     "name": "stdout",
     "output_type": "stream",
     "text": [
      "[{'title': 'Cerberus Hemisphere', 'img_url': 'https://astrogeology.usgs.gov/cache/images/cfa62af2557222a02478f1fcd781d445_cerberus_enhanced.tif_full.jpg'}, {'title': 'Schiaparelli Hemisphere', 'img_url': 'https://astrogeology.usgs.gov/cache/images/3cdd1cbf5e0813bba925c9030d13b62e_schiaparelli_enhanced.tif_full.jpg'}, {'title': 'Syrtis Major Hemisphere', 'img_url': 'https://astrogeology.usgs.gov/cache/images/ae209b4e408bb6c3e67b6af38168cf28_syrtis_major_enhanced.tif_full.jpg'}, {'title': 'Valles Marineris Hemisphere', 'img_url': 'https://astrogeology.usgs.gov/cache/images/7cf2da4bf549ed01c17f206327be4db7_valles_marineris_enhanced.tif_full.jpg'}]\n"
     ]
    }
   ],
   "source": [
    "print(hemisphere_image_urls)\n"
   ]
  },
  {
   "cell_type": "code",
   "execution_count": null,
   "metadata": {},
   "outputs": [],
   "source": []
  },
  {
   "cell_type": "code",
   "execution_count": null,
   "metadata": {},
   "outputs": [],
   "source": []
  },
  {
   "cell_type": "code",
   "execution_count": null,
   "metadata": {},
   "outputs": [],
   "source": []
  },
  {
   "cell_type": "code",
   "execution_count": null,
   "metadata": {},
   "outputs": [],
   "source": []
  }
 ],
 "metadata": {
  "kernelspec": {
   "display_name": "Python 3",
   "language": "python",
   "name": "python3"
  },
  "language_info": {
   "codemirror_mode": {
    "name": "ipython",
    "version": 3
   },
   "file_extension": ".py",
   "mimetype": "text/x-python",
   "name": "python",
   "nbconvert_exporter": "python",
   "pygments_lexer": "ipython3",
   "version": "3.7.1"
  }
 },
 "nbformat": 4,
 "nbformat_minor": 2
}
